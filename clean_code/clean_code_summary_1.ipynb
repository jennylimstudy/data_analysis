{
 "cells": [
  {
   "cell_type": "markdown",
   "metadata": {},
   "source": [
    "# 1. 깨끗한 코드 (깨끗한 변수 이름, 깨끗한 함수, 깨끗한 클래스)\n"
   ]
  },
  {
   "cell_type": "markdown",
   "metadata": {},
   "source": [
    "## 1) 한가지를 제대로 하는 코드\n",
    "- 논리가 간단하고 의존성을 최소화 해야한다."
   ]
  },
  {
   "cell_type": "markdown",
   "metadata": {},
   "source": [
    "## 2) 철저한 오류 처리\n",
    "- 메모리 누수\n",
    "- 경쟁 상태(race condition)\n",
    "- 일관성 없는 명명법"
   ]
  },
  {
   "cell_type": "markdown",
   "metadata": {},
   "source": [
    "## 3) 문장 처럼 읽히는 코드\n",
    "## 4) 단위 테스트 케이스, 인수 테스트 케이스\n",
    "## 5) 중복을 없애라\n",
    "## 6) 초반부터 간단한 추상화 고려하기 (함수의 추상화)"
   ]
  }
 ],
 "metadata": {
  "language_info": {
   "name": "python"
  },
  "orig_nbformat": 4
 },
 "nbformat": 4,
 "nbformat_minor": 2
}
