{
 "cells": [
  {
   "cell_type": "code",
   "execution_count": null,
   "metadata": {},
   "outputs": [],
   "source": [
    "\"\"\"\n",
    "git checkout cleancode1\n",
    "git add 폴더이름 //// git add 파일이름.파일확장자\n",
    "git commit -m \"커밋내용\"\n",
    "git remote -v\n",
    "git push origin cleancode1\n",
    "git checkout master //잊지말고 다시 마스터로 돌아가기\n",
    "\n",
    "git config --global core.autocrlf true //crlf->lf 이거 안해주면 github사이트에서 파일이 안보이는 오류가 생기는 듯 함\n",
    "git push -f origin cleancode1 //강제 push -> 깃헙에는 있는데 여기는 없으면 pulㄴl했다가 등등 해야한다는데 그런거 신경 안쓰고 그냥 올리고싶을때\n",
    "\"\"\""
   ]
  },
  {
   "cell_type": "markdown",
   "metadata": {},
   "source": [
    "https://y-oni.tistory.com/126\n",
    "폴더 올리기"
   ]
  },
  {
   "cell_type": "markdown",
   "metadata": {},
   "source": [
    "git branch //현재 branch확인"
   ]
  }
 ],
 "metadata": {
  "language_info": {
   "name": "python"
  },
  "orig_nbformat": 4
 },
 "nbformat": 4,
 "nbformat_minor": 2
}
