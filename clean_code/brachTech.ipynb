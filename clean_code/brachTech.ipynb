{
 "cells": [
  {
   "cell_type": "code",
   "execution_count": null,
   "metadata": {},
   "outputs": [],
   "source": [
    "\"\"\"\n",
    "git checkout cleancode1\n",
    "git add 폴더이름 //// git add 파일이름.파일확장자\n",
    "git commit -m \"커밋내용\"\n",
    "git remote -v\n",
    "git push origin cleancode1\n",
    "git checkout master //잊지말고 다시 마스터로 돌아가기\n",
    "\n",
    "git config --global core.autocrlf true //crlf->lf\n",
    "git push -f origin cleancode1 //강제 push\n",
    "\"\"\""
   ]
  },
  {
   "cell_type": "markdown",
   "metadata": {},
   "source": [
    "https://y-oni.tistory.com/126\n",
    "폴더 올리기"
   ]
  },
  {
   "cell_type": "markdown",
   "metadata": {},
   "source": [
    "git branch //현재 branch확인"
   ]
  }
 ],
 "metadata": {
  "language_info": {
   "name": "python"
  },
  "orig_nbformat": 4
 },
 "nbformat": 4,
 "nbformat_minor": 2
}
